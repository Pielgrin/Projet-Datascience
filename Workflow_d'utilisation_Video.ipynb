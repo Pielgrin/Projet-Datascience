{
  "nbformat": 4,
  "nbformat_minor": 0,
  "metadata": {
    "colab": {
      "name": "Workflow d'utilisation Video",
      "provenance": [],
      "collapsed_sections": [],
      "toc_visible": true
    },
    "kernelspec": {
      "name": "python3",
      "display_name": "Python 3"
    }
  },
  "cells": [
    {
      "cell_type": "markdown",
      "metadata": {
        "id": "--TmgBALOMU_",
        "colab_type": "text"
      },
      "source": [
        "# DRIVE"
      ]
    },
    {
      "cell_type": "markdown",
      "metadata": {
        "id": "dkt5Gwpb29xM",
        "colab_type": "text"
      },
      "source": [
        "# Lancement de l'outil"
      ]
    },
    {
      "cell_type": "code",
      "metadata": {
        "id": "huZTdcQhEUgl",
        "colab_type": "code",
        "colab": {}
      },
      "source": [
        "# Import\n",
        "\n",
        "import os\n",
        "import sys\n",
        "import cv2\n",
        "import glob\n",
        "import time\n",
        "import shutil     \n",
        "from PIL import Image\n",
        "import numpy as np\n",
        "\n",
        "#Import de la Pipeline\n",
        "#sys.path.append(\"/content/drive/My Drive/Projet DataScience\") #Path Médé\n",
        "#sys.path.append(\"/content/drive/My Drive/CESI/Projets A5/Data Science/Projet DataScience\") #Path Kayou\n",
        "#from Pipeline.pipeline import Pipeline\n"
      ],
      "execution_count": 0,
      "outputs": []
    },
    {
      "cell_type": "code",
      "metadata": {
        "id": "9bdLlj7b1j_K",
        "colab_type": "code",
        "colab": {}
      },
      "source": [
        "# Fonction principale pour lancer la procédure de traitement de la vidéo\n",
        "\n",
        "def lancement_procedure(path):\n",
        "  list_rep = creation_arbo()\n",
        "  #path_video = list_rep[6]\n",
        "  #path_frames = list_rep[7]\n",
        "  #path_frames_clean = list_rep[8]\n",
        "  #path_resultat = list_rep[5]\n",
        "  #deplacer_video(path, path_video)\n",
        "  #list_image_degraded = chargement_video(path_video, path_frames)\n",
        "  #liste_image_clean = appel_IA(list_image_degraded)\n",
        "  #save_image(liste_image_clean, path_resultat, path_frames_clean)\n",
        "  "
      ],
      "execution_count": 0,
      "outputs": []
    },
    {
      "cell_type": "markdown",
      "metadata": {
        "id": "D_nGsar1QU8t",
        "colab_type": "text"
      },
      "source": [
        "# Mise en place de l'arborescence des répertoires"
      ]
    },
    {
      "cell_type": "code",
      "metadata": {
        "id": "vBBFyHrIQTh1",
        "colab_type": "code",
        "colab": {}
      },
      "source": [
        "# Fonction de création de l'arborescence\n",
        "\n",
        "def creation_arbo():\n",
        "\n",
        "  # Liste des répertoire à créer pour mettre en place l'arborescence necessaire aux images en entrées/sorties\n",
        "  list_rep = [\"/content/Data\", \"/content/Data/Photo\", \"/content/Data/Photo/Resultat\", \"/content/Data/Photo/Images\", \"/content/Data/Video\", \"/content/Data/Video/Resultat\", \"/content/Data/Video/Video\", \"/content/Data/Video/Frames\", \"/content/Data/Video/CleanFrames\"]\n",
        "  for filename in list_rep: \n",
        "    create_rep(filename)  # Appel de la fonction de création d'un répertoire\n",
        "  \n",
        "  return list_rep # Permet de retrouver l'emplacement des images en entrées\n"
      ],
      "execution_count": 0,
      "outputs": []
    },
    {
      "cell_type": "code",
      "metadata": {
        "id": "3MRt0FidQQHB",
        "colab_type": "code",
        "colab": {}
      },
      "source": [
        "# Fonction de création d'un répertoire\n",
        "\n",
        "def create_rep(filename):\n",
        "\n",
        "  # Vérification de l'existence du répertoire avant sa création\n",
        "  if not os.path.exists(filename):\n",
        "    os.makedirs(filename) # Création du répertoire\n"
      ],
      "execution_count": 0,
      "outputs": []
    },
    {
      "cell_type": "markdown",
      "metadata": {
        "id": "VKUpnJ4qacvl",
        "colab_type": "text"
      },
      "source": [
        "# Déplacement de la vidéo de l'utilisateur vers le répertoire d'entrée"
      ]
    },
    {
      "cell_type": "code",
      "metadata": {
        "id": "z4KPdBDPazcy",
        "colab_type": "code",
        "colab": {}
      },
      "source": [
        "# Fonction pour déplacer la vidéo dans le bon répertoire\n",
        "\n",
        "def deplacer_video(path, path_video)\n",
        "  shutil.move(path, path_video)\n"
      ],
      "execution_count": 0,
      "outputs": []
    },
    {
      "cell_type": "markdown",
      "metadata": {
        "id": "0EoImF-tu0Dh",
        "colab_type": "text"
      },
      "source": [
        "# Chargement de la vidéo pour traitement"
      ]
    },
    {
      "cell_type": "code",
      "metadata": {
        "id": "ESjPU9_dUS-y",
        "colab_type": "code",
        "colab": {}
      },
      "source": [
        "# Récupération de la vidéo\n",
        "\n",
        "def chargement_video(path_video, path_frames):\n",
        "\n",
        "  video = cv2.VideoCapture(path_video)  #chargement de la vidéo\n",
        "  Decoupage_video(video, path_resultat)  #Appel de la fonction de découpage\n"
      ],
      "execution_count": 0,
      "outputs": []
    },
    {
      "cell_type": "code",
      "metadata": {
        "id": "ztjVmrka5KLn",
        "colab_type": "code",
        "colab": {}
      },
      "source": [
        "# Décomposition de la vidéo en frames\n",
        "\n",
        "def decoupage_video(video, path_frames)\n",
        "  sec = 0 #instant T\n",
        "  frameRate = 0.06  #temps entre 2 frames\n",
        "  count=1 #sert de numéro pour la frame à récupérée\n",
        "  success = sauvegarde_frame(video, sec, path_frames) #Appel à la fonction de récupération de frame\n",
        "\n",
        "  #Reproduit l'appel à la fonction de récupération de frame tant que la vidéo continue et tout en changeant les paramètres \n",
        "  while success: \n",
        "    count = count + 1\n",
        "    sec = sec + frameRate\n",
        "    sec = round(sec, 2)\n",
        "    success = sauvegarde_frame(video, sec, path_frames)\n"
      ],
      "execution_count": 0,
      "outputs": []
    },
    {
      "cell_type": "code",
      "metadata": {
        "id": "r2rOEfoJiYiK",
        "colab_type": "code",
        "colab": {}
      },
      "source": [
        "# Récupération des frames de la vidéo\n",
        "\n",
        "def sauvegarde_frame(video, sec, path_frames):\n",
        "\n",
        "    video.set(cv2.CAP_PROP_POS_MSEC,sec*1000) #Potitionnement de la vidéo à un instant \"T\"\n",
        "    hasFrames,image = video.read() #Récupération de la frame actuelle\n",
        "    if hasFrames:\n",
        "        cv2.imwrite(path_frames+\"image\"+str(count)+\".jpg\", image) #Stockage de la frame récupérée\n",
        "    return hasFrames\n"
      ],
      "execution_count": 0,
      "outputs": []
    },
    {
      "cell_type": "markdown",
      "metadata": {
        "id": "rXKVp5qiMxqu",
        "colab_type": "text"
      },
      "source": [
        "# Traitement de la vidéo par l'IA"
      ]
    },
    {
      "cell_type": "code",
      "metadata": {
        "id": "wiUI2JVMM3PQ",
        "colab_type": "code",
        "colab": {}
      },
      "source": [
        "# Fonction qui envoie les images à l'IA pour être traitées\n",
        "\n",
        "def appel_IA(liste_image_degraded):\n",
        "\n",
        "  model = Pix2Pix()\n",
        "  list_image_clean = model.test(degraded_images, generator_weights='/content/drive/My Drive/Projet DataScience/Weights/weights_generator_loss_0.7250869.hdf5')\n",
        "  return list_image_clean\n"
      ],
      "execution_count": 0,
      "outputs": []
    },
    {
      "cell_type": "markdown",
      "metadata": {
        "id": "oi2BTIQQ5YcH",
        "colab_type": "text"
      },
      "source": [
        "# Assemblage de la vidéo traitée"
      ]
    },
    {
      "cell_type": "code",
      "metadata": {
        "id": "i8mb-XnaWxrw",
        "colab_type": "code",
        "colab": {}
      },
      "source": [
        "# Fonction pour sauvegarder les images traitées\n",
        "\n",
        "def save_image(liste_image_clean, path_resultat, path_frames_clean)\n",
        "\n",
        "  i=1   # Permet de donner un identifiant à l'image   \n",
        "  for element in liste_image_clean:\n",
        "    cv2.imwrite(path_frames_clean+i+\".jpg\", element)  # Enregistrement de l'image dans le dossier adéquat\n",
        "    i=i+1\n",
        "  assemblage_video(path_resultat, path_frames_clean)\n"
      ],
      "execution_count": 0,
      "outputs": []
    },
    {
      "cell_type": "code",
      "metadata": {
        "id": "R3UzYP9rjGQb",
        "colab_type": "code",
        "colab": {}
      },
      "source": [
        "# Fonction pour assembler les frames d'une vidéo et la sauvegarder\n",
        "\n",
        "def assemblage_video(path_resultat, path_frames_clean)\n",
        "  img_array = []\n",
        "  for filename in sorted(glob.glob(path_frames_clean+'/*.jpg'), key=os.path.getmtime):\n",
        "      img = cv2.imread(filename)\n",
        "      height, width, layers = img.shape\n",
        "      size = (width,height)\n",
        "      img_array.append(img)\n",
        "\n",
        "  out = cv2.VideoWriter(path_resultat+'/project.mp4',cv2.VideoWriter_fourcc(*'DIVX'), 15, size)\n",
        "\n",
        "  for i in range(len(img_array)):\n",
        "      out.release()"
      ],
      "execution_count": 0,
      "outputs": []
    },
    {
      "cell_type": "markdown",
      "metadata": {
        "id": "XwZ5W6cL89tX",
        "colab_type": "text"
      },
      "source": [
        "# Outil de traitement de vidéo"
      ]
    },
    {
      "cell_type": "code",
      "metadata": {
        "id": "aYkO-YaC9Lg4",
        "colab_type": "code",
        "cellView": "form",
        "colab": {}
      },
      "source": [
        "#@title Veuillez renseigner le chemin de la vidéo à traiter\n",
        "chemin = \"/content/ici\" #@param {type:\"string\"}\n",
        "\n",
        "path = chemin\n",
        "\n",
        "start_time = time.time()\n",
        "lancement_processus(path)\n",
        "print(\"Temps d execution : %s secondes ---\" % (time.time() - start_time)) # Affichage du temps d'exécution"
      ],
      "execution_count": 0,
      "outputs": []
    }
  ]
}