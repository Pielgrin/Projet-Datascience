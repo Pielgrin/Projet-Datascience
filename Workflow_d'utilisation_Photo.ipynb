{
  "nbformat": 4,
  "nbformat_minor": 0,
  "metadata": {
    "colab": {
      "name": "Workflow d'utilisation Photo",
      "provenance": [],
      "collapsed_sections": []
    },
    "kernelspec": {
      "name": "python3",
      "display_name": "Python 3"
    }
  },
  "cells": [
    {
      "cell_type": "markdown",
      "metadata": {
        "id": "dkt5Gwpb29xM",
        "colab_type": "text"
      },
      "source": [
        "# Lancement de l'outil"
      ]
    },
    {
      "cell_type": "code",
      "metadata": {
        "id": "huZTdcQhEUgl",
        "colab_type": "code",
        "colab": {}
      },
      "source": [
        "# Import\n",
        "\n",
        "import os\n",
        "import sys\n",
        "import cv2\n",
        "import glob\n",
        "import time\n",
        "import shutil     \n",
        "from PIL import Image\n",
        "import numpy as np\n",
        "import matplotlib\n",
        "from google.colab.patches import cv2_imshow\n",
        "import matplotlib.pyplot as plt\n",
        "from tqdm import tqdm_notebook as tqdm\n",
        "\n",
        "#Import du projet\n",
        "url = \"https://github.com/kayou11/Projet-Datascience.git\"\n",
        "os.system('git clone %s' %url)\n",
        "\n",
        "#Import du Model\n",
        "sys.path.append(\"Projet-Datascience\") \n",
        "from Model.pix2pix import Pix2Pix\n",
        "from Model.image_colorization import colorGen\n",
        "\n"
      ],
      "execution_count": 0,
      "outputs": []
    },
    {
      "cell_type": "code",
      "metadata": {
        "id": "bhJ5FfJAymj1",
        "colab_type": "code",
        "colab": {}
      },
      "source": [
        "def affiche(image):\n",
        "        plt.imshow(image)\n",
        "        plt.axis(\"off\")\n",
        "        plt.show"
      ],
      "execution_count": 0,
      "outputs": []
    },
    {
      "cell_type": "code",
      "metadata": {
        "id": "9bdLlj7b1j_K",
        "colab_type": "code",
        "colab": {}
      },
      "source": [
        "# Fonction principale pour lancer la procédure de traitement d'images\n",
        "\n",
        "def lancement_processus(path, noirBlanc=False):\n",
        "\n",
        "  list_rep = creation_arbo()\n",
        "  path_images = list_rep[3]\n",
        "  path_resultat = list_rep[2]\n",
        "  deplacer_photo(path, path_images)\n",
        "  if noirBlanc: \n",
        "    list_image_degraded = chargement_image_NoirBlanc(path_images)\n",
        "    list_image_clean = appel_IA_colorization(list_image_degraded)\n",
        "         \n",
        "  else:\n",
        "    list_image_degraded = chargement_image(path_images)\n",
        "    list_image_clean = appel_IA(list_image_degraded)\n",
        "    save_image(path_resultat, list_image_clean)\n",
        "  \n",
        "  "
      ],
      "execution_count": 0,
      "outputs": []
    },
    {
      "cell_type": "markdown",
      "metadata": {
        "id": "z8EL7c1JiiOG",
        "colab_type": "text"
      },
      "source": [
        "# Mise en place de l'arborescence des répertoires"
      ]
    },
    {
      "cell_type": "code",
      "metadata": {
        "id": "iNULBWkFisXS",
        "colab_type": "code",
        "colab": {}
      },
      "source": [
        "# Fonction de création de l'arborescence\n",
        "\n",
        "def creation_arbo():\n",
        "\n",
        "  # Liste des répertoire à créer pour mettre en place l'arborescence necessaire aux images en entrées/sorties\n",
        "  list_rep = [\"/content/Data\", \"/content/Data/Photo\", \"/content/Data/Photo/Resultat\", \"/content/Data/Photo/Images\", \"/content/Data/Video\", \"/content/Data/Video/Resultat\", \"/content/Data/Video/Video\", \"/content/Data/Video/Frames\", \"/content/Data/Video/CleanFrames\"]\n",
        "  for filename in list_rep: \n",
        "    create_rep(filename)  # Appel de la fonction de création d'un répertoire\n",
        "  \n",
        "  return list_rep # Permet de retrouver l'emplacement des images en entrées\n"
      ],
      "execution_count": 0,
      "outputs": []
    },
    {
      "cell_type": "code",
      "metadata": {
        "id": "TJWFaA5V3kCp",
        "colab_type": "code",
        "colab": {}
      },
      "source": [
        "# Fonction de création d'un répertoire\n",
        "\n",
        "def create_rep(filename):\n",
        "\n",
        "  # Vérification de l'existence du répertoire avant sa création\n",
        "  if not os.path.exists(filename):\n",
        "    os.makedirs(filename) # Création du répertoire\n"
      ],
      "execution_count": 0,
      "outputs": []
    },
    {
      "cell_type": "markdown",
      "metadata": {
        "id": "VKUpnJ4qacvl",
        "colab_type": "text"
      },
      "source": [
        "# Déplacement des photos de l'utilisateur vers le répertoire d'entrée"
      ]
    },
    {
      "cell_type": "code",
      "metadata": {
        "id": "z4KPdBDPazcy",
        "colab_type": "code",
        "colab": {}
      },
      "source": [
        "# Fonction pour déplacer les images dans le bon répertoire\n",
        "\n",
        "def deplacer_photo(path, path_images):\n",
        "  for filename in os.listdir(path):\n",
        "    os.replace(path+'/'+filename, path_images+'/'+filename) #Déplacement de la photo (rep1 ==> rep2)\n",
        "  "
      ],
      "execution_count": 0,
      "outputs": []
    },
    {
      "cell_type": "markdown",
      "metadata": {
        "id": "0EoImF-tu0Dh",
        "colab_type": "text"
      },
      "source": [
        "# Chargement des images pour traitement"
      ]
    },
    {
      "cell_type": "code",
      "metadata": {
        "id": "ESjPU9_dUS-y",
        "colab_type": "code",
        "colab": {}
      },
      "source": [
        "# Récupération des images\n",
        "\n",
        "def chargement_image(path_images):\n",
        "\n",
        "  list_image = [] # Liste des images récupérées à traiter\n",
        "  for element in sorted(glob.glob(path_images+'/*.jpg')):\n",
        "    image = cv2.imread(element)  # Récupération de l'image\n",
        "    image = cv2.resize(image, (128, 128))\n",
        "    list_image.append(image)  # Ajout de l'image dans la liste\n",
        "  return list_image\n"
      ],
      "execution_count": 0,
      "outputs": []
    },
    {
      "cell_type": "code",
      "metadata": {
        "id": "XxWVlLtZpRXJ",
        "colab_type": "code",
        "colab": {}
      },
      "source": [
        "# Récupération des images\n",
        "\n",
        "def chargement_image_NoirBlanc(path_images):\n",
        "\n",
        "  list_image = [] # Liste des images récupérées à traiter\n",
        "  for element in sorted(glob.glob(path_images+'/*.jpg')):\n",
        "    image = cv2.imread(element)  # Récupération de l'image\n",
        "    image = cv2.resize(image, (256, 256))\n",
        "    list_image.append(image)  # Ajout de l'image dans la liste\n",
        "  return list_image"
      ],
      "execution_count": 0,
      "outputs": []
    },
    {
      "cell_type": "markdown",
      "metadata": {
        "id": "rXKVp5qiMxqu",
        "colab_type": "text"
      },
      "source": [
        "# Traitement des images par l'IA"
      ]
    },
    {
      "cell_type": "code",
      "metadata": {
        "id": "wiUI2JVMM3PQ",
        "colab_type": "code",
        "colab": {}
      },
      "source": [
        "# Fonction qui envoie les images à l'IA pour être traitées\n",
        "\n",
        "def appel_IA(liste_image_degraded):\n",
        "\n",
        "  model = Pix2Pix().build_generator()\n",
        "  model.load_weights('/content/drive/My Drive/Projet DataScience/poids/weights_generator.h5')\n",
        "\n",
        "  liste_image_degraded = np.array(liste_image_degraded)/127.5-1.\n",
        "\n",
        "  list_image_clean = model.predict(liste_image_degraded)\n",
        "  list_image_clean = 0.5 * np.asarray(list_image_clean) + 0.5\n",
        "\n",
        "  return list_image_clean"
      ],
      "execution_count": 0,
      "outputs": []
    },
    {
      "cell_type": "code",
      "metadata": {
        "id": "59nhWNWxkMWJ",
        "colab_type": "code",
        "colab": {}
      },
      "source": [
        "# Fonction qui envoie les images à l'IA pour être coloriser\n",
        "\n",
        "def appel_IA_colorization(liste_image_noir_blanc):\n",
        "\n",
        "  liste_image_noir_blanc = np.array(liste_image_noir_blanc)/127.5-1.\n",
        "  model = colorGen()\n",
        "  list_image_clean = model.test(liste_image_noir_blanc)\n",
        "\n",
        "  return list_image_clean"
      ],
      "execution_count": 0,
      "outputs": []
    },
    {
      "cell_type": "markdown",
      "metadata": {
        "id": "oi2BTIQQ5YcH",
        "colab_type": "text"
      },
      "source": [
        "# Récupération et sauvegarde des images traitées"
      ]
    },
    {
      "cell_type": "code",
      "metadata": {
        "id": "R3UzYP9rjGQb",
        "colab_type": "code",
        "colab": {}
      },
      "source": [
        "# Fonction pour sauvegarder les images traitées\n",
        "\n",
        "def save_image(path_resultat, list_image_clean):\n",
        "  \n",
        "  i=1   # Permet de donner un identifiant à l'image   \n",
        "  for element in list_image_clean:\n",
        "    element = element*255\n",
        "    element = element.astype('uint8')\n",
        "    cv2.imwrite(path_resultat+'/image'+str(i)+\".jpg\", element)  # Enregistrement de l'image dans le dossier adéquat\n",
        "    affiche(element)\n",
        "    i = i + 1\n"
      ],
      "execution_count": 0,
      "outputs": []
    },
    {
      "cell_type": "markdown",
      "metadata": {
        "id": "XwZ5W6cL89tX",
        "colab_type": "text"
      },
      "source": [
        "# Outil de traitement d'images"
      ]
    },
    {
      "cell_type": "code",
      "metadata": {
        "id": "aYkO-YaC9Lg4",
        "colab_type": "code",
        "cellView": "both",
        "colab": {
          "base_uri": "https://localhost:8080/",
          "height": 357
        },
        "outputId": "21ecd09c-46c5-41af-a18c-d1284de98e5d"
      },
      "source": [
        "#@title Veuillez renseigner le chemin des photos à traiter\n",
        "chemin = \"\" #@param {type:\"string\"}\n",
        "\n",
        "path = chemin\n",
        "\n",
        "start_time = time.time()\n",
        "lancement_processus(path)\n",
        "print(\"Temps d execution : %s secondes ---\" % (time.time() - start_time)) # Affichage du temps d'exécution"
      ],
      "execution_count": 26,
      "outputs": [
        {
          "output_type": "error",
          "ename": "FileNotFoundError",
          "evalue": "ignored",
          "traceback": [
            "\u001b[0;31m---------------------------------------------------------------------------\u001b[0m",
            "\u001b[0;31mFileNotFoundError\u001b[0m                         Traceback (most recent call last)",
            "\u001b[0;32m<ipython-input-26-a5bac5276924>\u001b[0m in \u001b[0;36m<module>\u001b[0;34m()\u001b[0m\n\u001b[1;32m      4\u001b[0m \u001b[0;34m\u001b[0m\u001b[0m\n\u001b[1;32m      5\u001b[0m \u001b[0mstart_time\u001b[0m \u001b[0;34m=\u001b[0m \u001b[0mtime\u001b[0m\u001b[0;34m.\u001b[0m\u001b[0mtime\u001b[0m\u001b[0;34m(\u001b[0m\u001b[0;34m)\u001b[0m\u001b[0;34m\u001b[0m\u001b[0;34m\u001b[0m\u001b[0m\n\u001b[0;32m----> 6\u001b[0;31m \u001b[0mlancement_processus\u001b[0m\u001b[0;34m(\u001b[0m\u001b[0mpath\u001b[0m\u001b[0;34m)\u001b[0m\u001b[0;34m\u001b[0m\u001b[0;34m\u001b[0m\u001b[0m\n\u001b[0m\u001b[1;32m      7\u001b[0m \u001b[0mprint\u001b[0m\u001b[0;34m(\u001b[0m\u001b[0;34m\"Temps d execution : %s secondes ---\"\u001b[0m \u001b[0;34m%\u001b[0m \u001b[0;34m(\u001b[0m\u001b[0mtime\u001b[0m\u001b[0;34m.\u001b[0m\u001b[0mtime\u001b[0m\u001b[0;34m(\u001b[0m\u001b[0;34m)\u001b[0m \u001b[0;34m-\u001b[0m \u001b[0mstart_time\u001b[0m\u001b[0;34m)\u001b[0m\u001b[0;34m)\u001b[0m \u001b[0;31m# Affichage du temps d'exécution\u001b[0m\u001b[0;34m\u001b[0m\u001b[0;34m\u001b[0m\u001b[0m\n",
            "\u001b[0;32m<ipython-input-17-d34754ea92f0>\u001b[0m in \u001b[0;36mlancement_processus\u001b[0;34m(path, noirBlanc)\u001b[0m\n\u001b[1;32m      5\u001b[0m   \u001b[0mpath_images\u001b[0m \u001b[0;34m=\u001b[0m \u001b[0mlist_rep\u001b[0m\u001b[0;34m[\u001b[0m\u001b[0;36m3\u001b[0m\u001b[0;34m]\u001b[0m\u001b[0;34m\u001b[0m\u001b[0;34m\u001b[0m\u001b[0m\n\u001b[1;32m      6\u001b[0m   \u001b[0mpath_resultat\u001b[0m \u001b[0;34m=\u001b[0m \u001b[0mlist_rep\u001b[0m\u001b[0;34m[\u001b[0m\u001b[0;36m2\u001b[0m\u001b[0;34m]\u001b[0m\u001b[0;34m\u001b[0m\u001b[0;34m\u001b[0m\u001b[0m\n\u001b[0;32m----> 7\u001b[0;31m   \u001b[0mdeplacer_photo\u001b[0m\u001b[0;34m(\u001b[0m\u001b[0mpath\u001b[0m\u001b[0;34m,\u001b[0m \u001b[0mpath_images\u001b[0m\u001b[0;34m)\u001b[0m\u001b[0;34m\u001b[0m\u001b[0;34m\u001b[0m\u001b[0m\n\u001b[0m\u001b[1;32m      8\u001b[0m   \u001b[0;32mif\u001b[0m \u001b[0mnoirBlanc\u001b[0m\u001b[0;34m:\u001b[0m\u001b[0;34m\u001b[0m\u001b[0;34m\u001b[0m\u001b[0m\n\u001b[1;32m      9\u001b[0m     \u001b[0mlist_image_degraded\u001b[0m \u001b[0;34m=\u001b[0m \u001b[0mchargement_image_NoirBlanc\u001b[0m\u001b[0;34m(\u001b[0m\u001b[0mpath_images\u001b[0m\u001b[0;34m)\u001b[0m\u001b[0;34m\u001b[0m\u001b[0;34m\u001b[0m\u001b[0m\n",
            "\u001b[0;32m<ipython-input-20-eea16d9609b9>\u001b[0m in \u001b[0;36mdeplacer_photo\u001b[0;34m(path, path_images)\u001b[0m\n\u001b[1;32m      1\u001b[0m \u001b[0;34m\u001b[0m\u001b[0m\n\u001b[1;32m      2\u001b[0m \u001b[0;32mdef\u001b[0m \u001b[0mdeplacer_photo\u001b[0m\u001b[0;34m(\u001b[0m\u001b[0mpath\u001b[0m\u001b[0;34m,\u001b[0m \u001b[0mpath_images\u001b[0m\u001b[0;34m)\u001b[0m\u001b[0;34m:\u001b[0m\u001b[0;34m\u001b[0m\u001b[0;34m\u001b[0m\u001b[0m\n\u001b[0;32m----> 3\u001b[0;31m   \u001b[0;32mfor\u001b[0m \u001b[0mfilename\u001b[0m \u001b[0;32min\u001b[0m \u001b[0mos\u001b[0m\u001b[0;34m.\u001b[0m\u001b[0mlistdir\u001b[0m\u001b[0;34m(\u001b[0m\u001b[0mpath\u001b[0m\u001b[0;34m)\u001b[0m\u001b[0;34m:\u001b[0m\u001b[0;34m\u001b[0m\u001b[0;34m\u001b[0m\u001b[0m\n\u001b[0m\u001b[1;32m      4\u001b[0m     \u001b[0mos\u001b[0m\u001b[0;34m.\u001b[0m\u001b[0mreplace\u001b[0m\u001b[0;34m(\u001b[0m\u001b[0mpath\u001b[0m\u001b[0;34m+\u001b[0m\u001b[0;34m'/'\u001b[0m\u001b[0;34m+\u001b[0m\u001b[0mfilename\u001b[0m\u001b[0;34m,\u001b[0m \u001b[0mpath_images\u001b[0m\u001b[0;34m+\u001b[0m\u001b[0;34m'/'\u001b[0m\u001b[0;34m+\u001b[0m\u001b[0mfilename\u001b[0m\u001b[0;34m)\u001b[0m \u001b[0;31m#Déplacement de la photo (rep1 ==> rep2)\u001b[0m\u001b[0;34m\u001b[0m\u001b[0;34m\u001b[0m\u001b[0m\n\u001b[1;32m      5\u001b[0m \u001b[0;34m\u001b[0m\u001b[0m\n",
            "\u001b[0;31mFileNotFoundError\u001b[0m: [Errno 2] No such file or directory: ''"
          ]
        }
      ]
    },
    {
      "cell_type": "code",
      "metadata": {
        "id": "CNBCKTtb1xoh",
        "colab_type": "code",
        "colab": {
          "base_uri": "https://localhost:8080/",
          "height": 475
        },
        "outputId": "e6ff4d15-e045-41a3-d13e-e121bf512a01"
      },
      "source": [
        "#@title Veuillez renseigner le chemin des photos en noir et blanc à traiter\n",
        "chemin = \"/content/set\" #@param {type:\"string\"}\n",
        "\n",
        "path = chemin\n",
        "\n",
        "start_time = time.time()\n",
        "lancement_processus(path, True)\n",
        "print(\"Temps d execution : %s secondes ---\" % (time.time() - start_time)) # Affichage du temps d'exécution"
      ],
      "execution_count": 27,
      "outputs": [
        {
          "output_type": "stream",
          "text": [
            "Clipping input data to the valid range for imshow with RGB data ([0..1] for floats or [0..255] for integers).\n"
          ],
          "name": "stderr"
        },
        {
          "output_type": "display_data",
          "data": {
            "image/png": "[encoded data removed]",
            "text/plain": [
              "<Figure size 1440x432 with 3 Axes>"
            ]
          },
          "metadata": {
            "tags": []
          }
        },
        {
          "output_type": "stream",
          "text": [
            "Temps d execution : 48.18711805343628 secondes ---\n"
          ],
          "name": "stdout"
        }
      ]
    }
  ]
}