{
  "nbformat": 4,
  "nbformat_minor": 0,
  "metadata": {
    "colab": {
      "name": "Workflow Entrainement Model",
      "provenance": [],
      "collapsed_sections": [],
      "machine_shape": "hm"
    },
    "kernelspec": {
      "name": "python3",
      "display_name": "Python 3"
    },
    "accelerator": "GPU"
  },
  "cells": [
    {
      "cell_type": "markdown",
      "metadata": {
        "id": "oFPLlkXAnCQD",
        "colab_type": "text"
      },
      "source": [
        "# Import"
      ]
    },
    {
      "cell_type": "code",
      "metadata": {
        "id": "N5MF5NnaD_EV",
        "colab_type": "code",
        "colab": {}
      },
      "source": [
        "# Import\n",
        "\n",
        "import os\n",
        "import sys\n",
        "import cv2\n",
        "import time\n",
        "import scipy\n",
        "import shutil\n",
        "import imageio\n",
        "import datetime\n",
        "from tqdm import tqdm_notebook as tqdm\n",
        "\n",
        "import numpy as np\n",
        "import pandas as pd\n",
        "import matplotlib.pyplot as plt\n",
        "\n",
        "from glob import glob\n",
        "from skimage import transform\n",
        "from __future__ import print_function, division"
      ],
      "execution_count": 0,
      "outputs": []
    },
    {
      "cell_type": "code",
      "metadata": {
        "id": "S4SzGvJnzdzO",
        "colab_type": "code",
        "colab": {}
      },
      "source": [
        "#Import du projet\n",
        "url = \"https://github.com/kayou11/Projet-Datascience.git\"\n",
        "os.system('git clone %s' %url)\n",
        "\n",
        "#Import de la Pipeline\n",
        "sys.path.append(\"Projet-Datascience\") \n",
        "from Pipeline.pipeline import Pipeline\n",
        "\n",
        "#Import des Models\n",
        "sys.path.append(\"Projet-Datascience\") \n",
        "from Model.pix2pix import Pix2Pix\n",
        "from Model.image_colorization import colorGen"
      ],
      "execution_count": 0,
      "outputs": []
    },
    {
      "cell_type": "markdown",
      "metadata": {
        "id": "gqYEupjWm5Bw",
        "colab_type": "text"
      },
      "source": [
        "# Récupération de données d'entrainement sur cocodataset.org et Github"
      ]
    },
    {
      "cell_type": "code",
      "metadata": {
        "id": "KxsVAQkZwQqB",
        "colab_type": "code",
        "colab": {}
      },
      "source": [
        "pipeline = Pipeline(dataset_name='val2014')\n",
        "pipeline.create_tree_directories()\n",
        "data_path = pipeline.download_data() # Récupération d'un dataset COCO \n",
        "print(data_path)\n",
        "\n",
        "pipeline.download_git_data() # Récupération des données sur github"
      ],
      "execution_count": 0,
      "outputs": []
    },
    {
      "cell_type": "markdown",
      "metadata": {
        "colab_type": "text",
        "id": "fSH7ahYqdX5I"
      },
      "source": [
        "# Entrainement du Model Pix2Pix"
      ]
    },
    {
      "cell_type": "code",
      "metadata": {
        "id": "-HMGPtNNgKTM",
        "colab_type": "code",
        "colab": {}
      },
      "source": [
        "gan = Pix2Pix()\n",
        "gan.train(epochs=100, batch_size=32, show_interval=1)"
      ],
      "execution_count": 0,
      "outputs": []
    },
    {
      "cell_type": "markdown",
      "metadata": {
        "id": "SueF76eswvsv",
        "colab_type": "text"
      },
      "source": [
        "#Entrainement du model de colorisation"
      ]
    },
    {
      "cell_type": "code",
      "metadata": {
        "id": "eIaScCPQqXjR",
        "colab_type": "code",
        "colab": {}
      },
      "source": [
        "# NON FONCTIONNEL\n",
        "#color = colorGen()\n",
        "#color.train(32,350)"
      ],
      "execution_count": 0,
      "outputs": []
    }
  ]
}