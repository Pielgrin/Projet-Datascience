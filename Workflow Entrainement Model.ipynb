{
  "nbformat": 4,
  "nbformat_minor": 0,
  "metadata": {
    "colab": {
      "name": "Workflow Entrainement Model",
      "provenance": [],
      "collapsed_sections": [
        "oFPLlkXAnCQD"
      ],
      "toc_visible": true
    },
    "kernelspec": {
      "name": "python3",
      "display_name": "Python 3"
    },
    "accelerator": "GPU"
  },
  "cells": [
    {
      "cell_type": "code",
      "metadata": {
        "id": "uioV1qfTBj25",
        "colab_type": "code",
        "outputId": "98c99888-f5f3-4160-844d-28adba3d1b47",
        "colab": {
          "base_uri": "https://localhost:8080/",
          "height": 122
        }
      },
      "source": [
        "from google.colab import drive\n",
        "drive.mount('/content/drive')"
      ],
      "execution_count": 0,
      "outputs": [
        {
          "output_type": "stream",
          "text": [
            "Go to this URL in a browser: https://accounts.google.com/o/oauth2/auth?client_id=947318989803-6bn6qk8qdgf4n4g3pfee6491hc0brc4i.apps.googleusercontent.com&redirect_uri=urn%3aietf%3awg%3aoauth%3a2.0%3aoob&response_type=code&scope=email%20https%3a%2f%2fwww.googleapis.com%2fauth%2fdocs.test%20https%3a%2f%2fwww.googleapis.com%2fauth%2fdrive%20https%3a%2f%2fwww.googleapis.com%2fauth%2fdrive.photos.readonly%20https%3a%2f%2fwww.googleapis.com%2fauth%2fpeopleapi.readonly\n",
            "\n",
            "Enter your authorization code:\n",
            "··········\n",
            "Mounted at /content/drive\n"
          ],
          "name": "stdout"
        }
      ]
    },
    {
      "cell_type": "markdown",
      "metadata": {
        "id": "oFPLlkXAnCQD",
        "colab_type": "text"
      },
      "source": [
        "# Import"
      ]
    },
    {
      "cell_type": "code",
      "metadata": {
        "id": "N5MF5NnaD_EV",
        "colab_type": "code",
        "outputId": "18a4587b-9f19-4f8a-d1e9-8e601272e62c",
        "colab": {
          "base_uri": "https://localhost:8080/",
          "height": 80
        }
      },
      "source": [
        "# Import\n",
        "\n",
        "import os\n",
        "import sys\n",
        "import cv2\n",
        "import time\n",
        "import scipy\n",
        "import shutil\n",
        "import imageio\n",
        "import datetime\n",
        "from tqdm import tqdm_notebook as tqdm\n",
        "\n",
        "import numpy as np\n",
        "import pandas as pd\n",
        "import matplotlib.pyplot as plt\n",
        "\n",
        "from glob import glob\n",
        "from skimage import transform\n",
        "from __future__ import print_function, division\n",
        "\n",
        "#Import de la Pipeline\n",
        "#sys.path.append(\"/content/drive/My Drive/Projet DataScience\") #Path Médé\n",
        "sys.path.append(\"/content/drive/My Drive/CESI/Projets A5/Data Science/Projet DataScience\") #Path Kayou\n",
        "from Pipeline.pipeline import Pipeline\n",
        "\n",
        "#Import des Models\n",
        "sys.path.append(\"/content/drive/My Drive/CESI/Projets A5/Data Science/Projet DataScience\") #Path Kayou\n",
        "#from Model.pix2pix import DataLoader\n",
        "#from Model.pix2pix import Pix2Pix\n",
        "from Model.colorization import colorizationModel\n",
        "from Model.testcolor import testcolor\n",
        "\n",
        "from keras.layers import Input, Dense, Reshape, Flatten, Dropout, Concatenate\n",
        "from keras.layers import BatchNormalization, Activation, ZeroPadding2D\n",
        "from keras.layers.advanced_activations import LeakyReLU\n",
        "from keras.layers.convolutional import UpSampling2D, Conv2D\n",
        "from keras.models import Sequential, Model\n",
        "from keras.optimizers import Adam"
      ],
      "execution_count": 1,
      "outputs": [
        {
          "output_type": "stream",
          "text": [
            "Using TensorFlow backend.\n"
          ],
          "name": "stderr"
        },
        {
          "output_type": "display_data",
          "data": {
            "text/html": [
              "<p style=\"color: red;\">\n",
              "The default version of TensorFlow in Colab will soon switch to TensorFlow 2.x.<br>\n",
              "We recommend you <a href=\"https://www.tensorflow.org/guide/migrate\" target=\"_blank\">upgrade</a> now \n",
              "or ensure your notebook will continue to use TensorFlow 1.x via the <code>%tensorflow_version 1.x</code> magic:\n",
              "<a href=\"https://colab.research.google.com/notebooks/tensorflow_version.ipynb\" target=\"_blank\">more info</a>.</p>\n"
            ],
            "text/plain": [
              "<IPython.core.display.HTML object>"
            ]
          },
          "metadata": {
            "tags": []
          }
        }
      ]
    },
    {
      "cell_type": "markdown",
      "metadata": {
        "id": "gqYEupjWm5Bw",
        "colab_type": "text"
      },
      "source": [
        "# Récupération de données d'entrainement sur cocodataset.org et Github"
      ]
    },
    {
      "cell_type": "code",
      "metadata": {
        "id": "KxsVAQkZwQqB",
        "colab_type": "code",
        "outputId": "3417b84a-588e-4ae5-f3cb-cc34825cdae2",
        "colab": {
          "base_uri": "https://localhost:8080/",
          "height": 51
        }
      },
      "source": [
        "pipeline = Pipeline(dataset_name='val2014',img_size=(512, 512))\n",
        "#pipeline.create_tree_directories()\n",
        "#data_path = pipeline.download_data()\n",
        "#print(data_path)\n",
        "\n",
        "pipeline.download_git_data() # Récupération des données sur github"
      ],
      "execution_count": 0,
      "outputs": [
        {
          "output_type": "stream",
          "text": [
            "Temps d execution : 330.91664695739746 secondes ---\n",
            "/content/Train/clean\n"
          ],
          "name": "stdout"
        }
      ]
    },
    {
      "cell_type": "markdown",
      "metadata": {
        "colab_type": "text",
        "id": "fSH7ahYqdX5I"
      },
      "source": [
        "# Entrainement du Model Pix2Pix"
      ]
    },
    {
      "cell_type": "code",
      "metadata": {
        "id": "-HMGPtNNgKTM",
        "colab_type": "code",
        "colab": {}
      },
      "source": [
        "gan = Pix2Pix()\n",
        "gan.train(epochs=200, batch_size=32, show_interval=1)"
      ],
      "execution_count": 0,
      "outputs": []
    },
    {
      "cell_type": "markdown",
      "metadata": {
        "id": "rvJeBhE1nE0j",
        "colab_type": "text"
      },
      "source": [
        "#Entrainement du model Colorization"
      ]
    },
    {
      "cell_type": "code",
      "metadata": {
        "id": "n3m7hVAhiQCj",
        "colab_type": "code",
        "colab": {}
      },
      "source": [
        "color = colorizationModel()\n",
        "color_model_weight = color.train_model(batch_size=32,epochs=1000)"
      ],
      "execution_count": 0,
      "outputs": []
    },
    {
      "cell_type": "code",
      "metadata": {
        "id": "crNhhAzU-e4a",
        "colab_type": "code",
        "colab": {}
      },
      "source": [
        "#test = testcolor()\n",
        "!python /content/Colorizing-with-GANs/test.py --test-input /content/Test/test_degraded --test-input /content/Test/results"
      ],
      "execution_count": 0,
      "outputs": []
    },
    {
      "cell_type": "code",
      "metadata": {
        "id": "eIaScCPQqXjR",
        "colab_type": "code",
        "colab": {}
      },
      "source": [
        ""
      ],
      "execution_count": 0,
      "outputs": []
    }
  ]
}